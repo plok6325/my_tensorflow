{
 "cells": [
  {
   "cell_type": "markdown",
   "metadata": {},
   "source": [
    "# MNIST For ML Beginners"
   ]
  },
  {
   "cell_type": "markdown",
   "metadata": {},
   "source": [
    " 导入数据  mnist ...... mnist.test.images  mnist.train.labels  etc"
   ]
  },
  {
   "cell_type": "code",
   "execution_count": 3,
   "metadata": {
    "collapsed": false
   },
   "outputs": [
    {
     "name": "stdout",
     "output_type": "stream",
     "text": [
      "Extracting MNIST_data/train-images-idx3-ubyte.gz\n",
      "Extracting MNIST_data/train-labels-idx1-ubyte.gz\n",
      "Extracting MNIST_data/t10k-images-idx3-ubyte.gz\n",
      "Extracting MNIST_data/t10k-labels-idx1-ubyte.gz\n"
     ]
    }
   ],
   "source": [
    "from tensorflow.examples.tutorials.mnist import input_data\n",
    "mnist = input_data.read_data_sets(\"MNIST_data/\", one_hot=True)"
   ]
  },
  {
   "cell_type": "code",
   "execution_count": 40,
   "metadata": {
    "collapsed": false
   },
   "outputs": [],
   "source": [
    "import tensorflow as tf\n",
    "\n",
    "#x 是 image \n",
    "# w 和 b 是要求的\n",
    "x= tf.placeholder(dtype=tf.float32,shape=[None,784])  # None ===> dimension can be any length \n",
    "W=tf.Variable(tf.zeros([784,10]))\n",
    "b= tf.Variable(tf.zeros(10))\n",
    "\n",
    "# softmat(wx+b )\n",
    "y= tf.matmul(x,W)+b\n",
    "# y_ ground truth \n",
    "y_=tf.placeholder(dtype=tf.float32,shape=[None,10])\n",
    "\n",
    "error=tf.reduce_mean(tf.nn.softmax_cross_entropy_with_logits(labels=y_,logits=y))\n",
    "# 用 GradientSescent stepsize=0.1 train \n",
    "train_step=tf.train.GradientDescentOptimizer(0.5).minimize(error)\n"
   ]
  },
  {
   "cell_type": "code",
   "execution_count": 41,
   "metadata": {
    "collapsed": true
   },
   "outputs": [],
   "source": [
    "init=tf.global_variables_initializer()\n",
    "\n",
    "sess=tf.Session()\n",
    "sess.run(init)\n",
    "for _ in range(1000): \n",
    "    batch_xs,batch_ys= mnist.train.next_batch(100)\n",
    "    sess.run(train_step,feed_dict={x:batch_xs,y_:batch_ys})"
   ]
  },
  {
   "cell_type": "code",
   "execution_count": 53,
   "metadata": {
    "collapsed": false
   },
   "outputs": [
    {
     "name": "stdout",
     "output_type": "stream",
     "text": [
      "--------------------------------------------------------------------------------------------------------------\n",
      "Accuracy= 0.916\n"
     ]
    }
   ],
   "source": [
    "correct_pred= tf.equal(tf.argmax(y,1),tf.arg_max(y_,1))\n",
    "\n",
    "accuracy= tf.reduce_mean(tf.cast(correct_pred,tf.float32))\n",
    "print '-'*110\n",
    "print ('Accuracy= '+ str(sess.run(accuracy, feed_dict={x: mnist.test.images, y_: mnist.test.labels})))"
   ]
  }
 ],
 "metadata": {
  "anaconda-cloud": {},
  "kernelspec": {
   "display_name": "Python [conda root]",
   "language": "python",
   "name": "conda-root-py"
  },
  "language_info": {
   "codemirror_mode": {
    "name": "ipython",
    "version": 2
   },
   "file_extension": ".py",
   "mimetype": "text/x-python",
   "name": "python",
   "nbconvert_exporter": "python",
   "pygments_lexer": "ipython2",
   "version": "2.7.12"
  }
 },
 "nbformat": 4,
 "nbformat_minor": 1
}
